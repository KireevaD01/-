{
  "cells": [
    {
      "cell_type": "markdown",
      "metadata": {
        "id": "15r2AT9SgomC"
      },
      "source": [
        "# Описание проекта\n",
        "\n",
        "Вы решили открыть небольшое кафе в Москве. Оно оригинальное — гостей должны обслуживать роботы. Проект многообещающий, но дорогой. Вместе с партнёрами вы решились обратиться к инвесторам. Их интересует текущее положение дел на рынке — сможете ли вы снискать популярность на долгое время, когда все зеваки насмотрятся на роботов-официантов?\n",
        "Вы — гуру аналитики, и партнёры просят вас подготовить исследование рынка. У вас есть открытые данные о заведениях общественного питания в Москве."
      ]
    },
    {
      "cell_type": "markdown",
      "metadata": {
        "id": "x_frVY38gomF"
      },
      "source": [
        "# Изучение и обработка данных"
      ]
    },
    {
      "cell_type": "code",
      "execution_count": null,
      "metadata": {
        "scrolled": true,
        "id": "syTsRxiTgomG",
        "outputId": "7ce4c783-d9cc-4598-b3b8-1a139c171db3"
      },
      "outputs": [
        {
          "data": {
            "text/html": [
              "<div>\n",
              "<style scoped>\n",
              "    .dataframe tbody tr th:only-of-type {\n",
              "        vertical-align: middle;\n",
              "    }\n",
              "\n",
              "    .dataframe tbody tr th {\n",
              "        vertical-align: top;\n",
              "    }\n",
              "\n",
              "    .dataframe thead th {\n",
              "        text-align: right;\n",
              "    }\n",
              "</style>\n",
              "<table border=\"1\" class=\"dataframe\">\n",
              "  <thead>\n",
              "    <tr style=\"text-align: right;\">\n",
              "      <th></th>\n",
              "      <th>id</th>\n",
              "      <th>object_name</th>\n",
              "      <th>chain</th>\n",
              "      <th>object_type</th>\n",
              "      <th>address</th>\n",
              "      <th>number</th>\n",
              "    </tr>\n",
              "  </thead>\n",
              "  <tbody>\n",
              "    <tr>\n",
              "      <td>0</td>\n",
              "      <td>151635</td>\n",
              "      <td>СМЕТАНА</td>\n",
              "      <td>нет</td>\n",
              "      <td>кафе</td>\n",
              "      <td>город Москва, улица Егора Абакумова, дом 9</td>\n",
              "      <td>48</td>\n",
              "    </tr>\n",
              "    <tr>\n",
              "      <td>1</td>\n",
              "      <td>77874</td>\n",
              "      <td>Родник</td>\n",
              "      <td>нет</td>\n",
              "      <td>кафе</td>\n",
              "      <td>город Москва, улица Талалихина, дом 2/1, корпус 1</td>\n",
              "      <td>35</td>\n",
              "    </tr>\n",
              "    <tr>\n",
              "      <td>2</td>\n",
              "      <td>24309</td>\n",
              "      <td>Кафе «Академия»</td>\n",
              "      <td>нет</td>\n",
              "      <td>кафе</td>\n",
              "      <td>город Москва, Абельмановская улица, дом 6</td>\n",
              "      <td>95</td>\n",
              "    </tr>\n",
              "    <tr>\n",
              "      <td>3</td>\n",
              "      <td>21894</td>\n",
              "      <td>ПИЦЦЕТОРИЯ</td>\n",
              "      <td>да</td>\n",
              "      <td>кафе</td>\n",
              "      <td>город Москва, Абрамцевская улица, дом 1</td>\n",
              "      <td>40</td>\n",
              "    </tr>\n",
              "    <tr>\n",
              "      <td>4</td>\n",
              "      <td>119365</td>\n",
              "      <td>Кафе «Вишневая метель»</td>\n",
              "      <td>нет</td>\n",
              "      <td>кафе</td>\n",
              "      <td>город Москва, Абрамцевская улица, дом 9, корпус 1</td>\n",
              "      <td>50</td>\n",
              "    </tr>\n",
              "    <tr>\n",
              "      <td>5</td>\n",
              "      <td>27429</td>\n",
              "      <td>СТОЛ. ПРИ ГОУ СОШ № 1051</td>\n",
              "      <td>нет</td>\n",
              "      <td>столовая</td>\n",
              "      <td>город Москва, Абрамцевская улица, дом 15, корп...</td>\n",
              "      <td>240</td>\n",
              "    </tr>\n",
              "    <tr>\n",
              "      <td>6</td>\n",
              "      <td>148815</td>\n",
              "      <td>Брусника</td>\n",
              "      <td>да</td>\n",
              "      <td>кафе</td>\n",
              "      <td>город Москва, переулок Сивцев Вражек, дом 6/2</td>\n",
              "      <td>10</td>\n",
              "    </tr>\n",
              "    <tr>\n",
              "      <td>7</td>\n",
              "      <td>20957</td>\n",
              "      <td>Буфет МТУСИ</td>\n",
              "      <td>нет</td>\n",
              "      <td>столовая</td>\n",
              "      <td>город Москва, Авиамоторная улица, дом 8, строе...</td>\n",
              "      <td>90</td>\n",
              "    </tr>\n",
              "    <tr>\n",
              "      <td>8</td>\n",
              "      <td>20958</td>\n",
              "      <td>КПФ СЕМЬЯ-1</td>\n",
              "      <td>нет</td>\n",
              "      <td>столовая</td>\n",
              "      <td>город Москва, Авиамоторная улица, дом 8, строе...</td>\n",
              "      <td>150</td>\n",
              "    </tr>\n",
              "    <tr>\n",
              "      <td>9</td>\n",
              "      <td>28858</td>\n",
              "      <td>Столовая МТУСИ</td>\n",
              "      <td>нет</td>\n",
              "      <td>столовая</td>\n",
              "      <td>город Москва, Авиамоторная улица, дом 8, строе...</td>\n",
              "      <td>120</td>\n",
              "    </tr>\n",
              "  </tbody>\n",
              "</table>\n",
              "</div>"
            ],
            "text/plain": [
              "       id               object_name chain object_type  \\\n",
              "0  151635                   СМЕТАНА   нет        кафе   \n",
              "1   77874                    Родник   нет        кафе   \n",
              "2   24309           Кафе «Академия»   нет        кафе   \n",
              "3   21894                ПИЦЦЕТОРИЯ    да        кафе   \n",
              "4  119365    Кафе «Вишневая метель»   нет        кафе   \n",
              "5   27429  СТОЛ. ПРИ ГОУ СОШ № 1051   нет    столовая   \n",
              "6  148815                  Брусника    да        кафе   \n",
              "7   20957               Буфет МТУСИ   нет    столовая   \n",
              "8   20958               КПФ СЕМЬЯ-1   нет    столовая   \n",
              "9   28858            Столовая МТУСИ   нет    столовая   \n",
              "\n",
              "                                             address  number  \n",
              "0         город Москва, улица Егора Абакумова, дом 9      48  \n",
              "1  город Москва, улица Талалихина, дом 2/1, корпус 1      35  \n",
              "2          город Москва, Абельмановская улица, дом 6      95  \n",
              "3            город Москва, Абрамцевская улица, дом 1      40  \n",
              "4  город Москва, Абрамцевская улица, дом 9, корпус 1      50  \n",
              "5  город Москва, Абрамцевская улица, дом 15, корп...     240  \n",
              "6      город Москва, переулок Сивцев Вражек, дом 6/2      10  \n",
              "7  город Москва, Авиамоторная улица, дом 8, строе...      90  \n",
              "8  город Москва, Авиамоторная улица, дом 8, строе...     150  \n",
              "9  город Москва, Авиамоторная улица, дом 8, строе...     120  "
            ]
          },
          "execution_count": 1,
          "metadata": {},
          "output_type": "execute_result"
        }
      ],
      "source": [
        "import pandas as pd\n",
        "import numpy as np\n",
        "import scipy.stats as st\n",
        "import seaborn as sns\n",
        "import math\n",
        "import matplotlib.pyplot as plt\n",
        "from plotly.offline import init_notebook_mode, iplot\n",
        "import plotly\n",
        "import plotly.graph_objs as go\n",
        "\n",
        "df=pd.read_csv('/datasets/rest_data.csv')\n",
        "\n",
        "df.head(10)"
      ]
    },
    {
      "cell_type": "code",
      "execution_count": null,
      "metadata": {
        "id": "o796DbhngomI",
        "outputId": "f2e2665d-dfca-4a71-9929-627d9aeae1b5"
      },
      "outputs": [
        {
          "name": "stdout",
          "output_type": "stream",
          "text": [
            "<class 'pandas.core.frame.DataFrame'>\n",
            "RangeIndex: 15366 entries, 0 to 15365\n",
            "Data columns (total 6 columns):\n",
            "id             15366 non-null int64\n",
            "object_name    15366 non-null object\n",
            "chain          15366 non-null object\n",
            "object_type    15366 non-null object\n",
            "address        15366 non-null object\n",
            "number         15366 non-null int64\n",
            "dtypes: int64(2), object(4)\n",
            "memory usage: 720.4+ KB\n"
          ]
        }
      ],
      "source": [
        "df.info()"
      ]
    },
    {
      "cell_type": "code",
      "execution_count": null,
      "metadata": {
        "id": "7Z6QKbkJgomJ"
      },
      "outputs": [],
      "source": [
        "df['object_name'] = df['object_name'].str.lower()\n",
        "df['object_type'] = df['object_type'].str.lower()\n",
        "df['address'] = df['address'].str.lower()"
      ]
    },
    {
      "cell_type": "code",
      "execution_count": null,
      "metadata": {
        "id": "mwLpjLtugomK"
      },
      "outputs": [],
      "source": [
        "df['chain'] = df['chain'].map({'нет':'несетевое','да':'сетевое'})\n",
        "df['object_type'] = df['object_type'].str.replace('предприятие быстрого обслуживания', 'фаст-фуд')\n",
        "df['object_type'] = df['object_type'].str.replace('магазин \\(отдел кулинарии\\)', 'кулинария')\n",
        "df['address'] = df['address'].str.replace('ё','е')\n"
      ]
    },
    {
      "cell_type": "code",
      "execution_count": null,
      "metadata": {
        "id": "LH2BV8k0gomL",
        "outputId": "410f6857-36d2-4846-9fad-e9a6f6a8af00"
      },
      "outputs": [
        {
          "data": {
            "text/plain": [
              "id             0\n",
              "object_name    0\n",
              "chain          0\n",
              "object_type    0\n",
              "address        0\n",
              "number         0\n",
              "dtype: int64"
            ]
          },
          "execution_count": 5,
          "metadata": {},
          "output_type": "execute_result"
        }
      ],
      "source": [
        "df.isnull().sum()"
      ]
    },
    {
      "cell_type": "code",
      "execution_count": null,
      "metadata": {
        "id": "GkqHZwvngomM",
        "outputId": "b1df930f-0ad2-40dd-e6e5-f997089af85c"
      },
      "outputs": [
        {
          "data": {
            "text/plain": [
              "0"
            ]
          },
          "execution_count": 6,
          "metadata": {},
          "output_type": "execute_result"
        }
      ],
      "source": [
        "df.duplicated().sum()"
      ]
    },
    {
      "cell_type": "code",
      "execution_count": null,
      "metadata": {
        "id": "5cdlnGufgomM",
        "outputId": "4ef7b296-b0d5-4653-aacb-431f952a28a7"
      },
      "outputs": [
        {
          "data": {
            "text/html": [
              "<div>\n",
              "<style scoped>\n",
              "    .dataframe tbody tr th:only-of-type {\n",
              "        vertical-align: middle;\n",
              "    }\n",
              "\n",
              "    .dataframe tbody tr th {\n",
              "        vertical-align: top;\n",
              "    }\n",
              "\n",
              "    .dataframe thead th {\n",
              "        text-align: right;\n",
              "    }\n",
              "</style>\n",
              "<table border=\"1\" class=\"dataframe\">\n",
              "  <thead>\n",
              "    <tr style=\"text-align: right;\">\n",
              "      <th></th>\n",
              "      <th>id</th>\n",
              "      <th>object_name</th>\n",
              "      <th>chain</th>\n",
              "      <th>object_type</th>\n",
              "      <th>address</th>\n",
              "      <th>number</th>\n",
              "    </tr>\n",
              "  </thead>\n",
              "  <tbody>\n",
              "    <tr>\n",
              "      <td>0</td>\n",
              "      <td>151635</td>\n",
              "      <td>сметана</td>\n",
              "      <td>несетевое</td>\n",
              "      <td>кафе</td>\n",
              "      <td>город москва, улица егора абакумова, дом 9</td>\n",
              "      <td>48</td>\n",
              "    </tr>\n",
              "    <tr>\n",
              "      <td>1</td>\n",
              "      <td>77874</td>\n",
              "      <td>родник</td>\n",
              "      <td>несетевое</td>\n",
              "      <td>кафе</td>\n",
              "      <td>город москва, улица талалихина, дом 2/1, корпус 1</td>\n",
              "      <td>35</td>\n",
              "    </tr>\n",
              "    <tr>\n",
              "      <td>2</td>\n",
              "      <td>24309</td>\n",
              "      <td>кафе «академия»</td>\n",
              "      <td>несетевое</td>\n",
              "      <td>кафе</td>\n",
              "      <td>город москва, абельмановская улица, дом 6</td>\n",
              "      <td>95</td>\n",
              "    </tr>\n",
              "    <tr>\n",
              "      <td>3</td>\n",
              "      <td>21894</td>\n",
              "      <td>пиццетория</td>\n",
              "      <td>сетевое</td>\n",
              "      <td>кафе</td>\n",
              "      <td>город москва, абрамцевская улица, дом 1</td>\n",
              "      <td>40</td>\n",
              "    </tr>\n",
              "    <tr>\n",
              "      <td>4</td>\n",
              "      <td>119365</td>\n",
              "      <td>кафе «вишневая метель»</td>\n",
              "      <td>несетевое</td>\n",
              "      <td>кафе</td>\n",
              "      <td>город москва, абрамцевская улица, дом 9, корпус 1</td>\n",
              "      <td>50</td>\n",
              "    </tr>\n",
              "    <tr>\n",
              "      <td>5</td>\n",
              "      <td>27429</td>\n",
              "      <td>стол. при гоу сош № 1051</td>\n",
              "      <td>несетевое</td>\n",
              "      <td>столовая</td>\n",
              "      <td>город москва, абрамцевская улица, дом 15, корп...</td>\n",
              "      <td>240</td>\n",
              "    </tr>\n",
              "    <tr>\n",
              "      <td>6</td>\n",
              "      <td>148815</td>\n",
              "      <td>брусника</td>\n",
              "      <td>сетевое</td>\n",
              "      <td>кафе</td>\n",
              "      <td>город москва, переулок сивцев вражек, дом 6/2</td>\n",
              "      <td>10</td>\n",
              "    </tr>\n",
              "    <tr>\n",
              "      <td>7</td>\n",
              "      <td>20957</td>\n",
              "      <td>буфет мтуси</td>\n",
              "      <td>несетевое</td>\n",
              "      <td>столовая</td>\n",
              "      <td>город москва, авиамоторная улица, дом 8, строе...</td>\n",
              "      <td>90</td>\n",
              "    </tr>\n",
              "    <tr>\n",
              "      <td>8</td>\n",
              "      <td>20958</td>\n",
              "      <td>кпф семья-1</td>\n",
              "      <td>несетевое</td>\n",
              "      <td>столовая</td>\n",
              "      <td>город москва, авиамоторная улица, дом 8, строе...</td>\n",
              "      <td>150</td>\n",
              "    </tr>\n",
              "    <tr>\n",
              "      <td>9</td>\n",
              "      <td>28858</td>\n",
              "      <td>столовая мтуси</td>\n",
              "      <td>несетевое</td>\n",
              "      <td>столовая</td>\n",
              "      <td>город москва, авиамоторная улица, дом 8, строе...</td>\n",
              "      <td>120</td>\n",
              "    </tr>\n",
              "  </tbody>\n",
              "</table>\n",
              "</div>"
            ],
            "text/plain": [
              "       id               object_name      chain object_type  \\\n",
              "0  151635                   сметана  несетевое        кафе   \n",
              "1   77874                    родник  несетевое        кафе   \n",
              "2   24309           кафе «академия»  несетевое        кафе   \n",
              "3   21894                пиццетория    сетевое        кафе   \n",
              "4  119365    кафе «вишневая метель»  несетевое        кафе   \n",
              "5   27429  стол. при гоу сош № 1051  несетевое    столовая   \n",
              "6  148815                  брусника    сетевое        кафе   \n",
              "7   20957               буфет мтуси  несетевое    столовая   \n",
              "8   20958               кпф семья-1  несетевое    столовая   \n",
              "9   28858            столовая мтуси  несетевое    столовая   \n",
              "\n",
              "                                             address  number  \n",
              "0         город москва, улица егора абакумова, дом 9      48  \n",
              "1  город москва, улица талалихина, дом 2/1, корпус 1      35  \n",
              "2          город москва, абельмановская улица, дом 6      95  \n",
              "3            город москва, абрамцевская улица, дом 1      40  \n",
              "4  город москва, абрамцевская улица, дом 9, корпус 1      50  \n",
              "5  город москва, абрамцевская улица, дом 15, корп...     240  \n",
              "6      город москва, переулок сивцев вражек, дом 6/2      10  \n",
              "7  город москва, авиамоторная улица, дом 8, строе...      90  \n",
              "8  город москва, авиамоторная улица, дом 8, строе...     150  \n",
              "9  город москва, авиамоторная улица, дом 8, строе...     120  "
            ]
          },
          "execution_count": 7,
          "metadata": {},
          "output_type": "execute_result"
        }
      ],
      "source": [
        "df.head(10)"
      ]
    },
    {
      "cell_type": "code",
      "execution_count": null,
      "metadata": {
        "id": "hBtLI7WggomN",
        "outputId": "ad84bbd5-960d-4903-c954-5e90a5b27be9"
      },
      "outputs": [
        {
          "data": {
            "text/plain": [
              "85"
            ]
          },
          "execution_count": 36,
          "metadata": {},
          "output_type": "execute_result"
        }
      ],
      "source": [
        "df.drop(columns = ['id'],axis = 1).duplicated().sum()"
      ]
    },
    {
      "cell_type": "code",
      "execution_count": null,
      "metadata": {
        "id": "LsIapFHbgomN",
        "outputId": "f966b8ed-3799-4adc-80ae-3a49f9a2a516"
      },
      "outputs": [
        {
          "data": {
            "text/plain": [
              "object_name    0\n",
              "chain          0\n",
              "object_type    0\n",
              "address        0\n",
              "number         0\n",
              "street_name    0\n",
              "dtype: int64"
            ]
          },
          "execution_count": 37,
          "metadata": {},
          "output_type": "execute_result"
        }
      ],
      "source": [
        "df.drop(columns = ['id'],axis = 1).isnull().sum()"
      ]
    },
    {
      "cell_type": "markdown",
      "metadata": {
        "id": "letdas-mgomN"
      },
      "source": [
        "<div class = \"alert alert-info\" >\n",
        "<h3>Комментарий студента</h3>\n",
        "    \n",
        "Удалила стоблец один, и прогнала на дубликаты (их 85). Так как они не повлияют на результаты, то удалять их особого смысла нет, оставим как есть.\n",
        "Пропусков при таком же прогоне - нет\n",
        "    \n",
        "</div>"
      ]
    },
    {
      "cell_type": "markdown",
      "metadata": {
        "id": "ovPPAEtFgomP"
      },
      "source": [
        "# Анализ данных"
      ]
    },
    {
      "cell_type": "markdown",
      "metadata": {
        "id": "hsqh6WuUgomP"
      },
      "source": [
        "## Исследуйте соотношение видов объектов общественного питания по количеству. Постройте график."
      ]
    },
    {
      "cell_type": "code",
      "execution_count": null,
      "metadata": {
        "id": "_cLqchYFgomQ",
        "outputId": "e98df9bf-f928-42f2-90ec-becb1f1ed8be"
      },
      "outputs": [
        {
          "data": {
            "image/png": "[encoded data removed]",
            "text/plain": [
              "<Figure size 432x288 with 1 Axes>"
            ]
          },
          "metadata": {
            "needs_background": "light"
          },
          "output_type": "display_data"
        }
      ],
      "source": [
        "df1 = df.groupby('object_type').count().reset_index()\n",
        "ax = df1[['object_type', 'number']].set_index('object_type').sort_values('number', ascending=True).plot(kind='bar')\n",
        "ax.set_xlabel('Тип объекта')\n",
        "ax.set_ylabel('Кол-во мест')\n",
        "ax.set_title('Количество посадочных мест в объектах общественного питания')\n",
        "plt.xticks(rotation=45)\n",
        "plt.show()"
      ]
    },
    {
      "cell_type": "code",
      "execution_count": null,
      "metadata": {
        "id": "8AvQt_dxgomR",
        "outputId": "9c4e2f0f-4626-4682-b8bf-3ba5507cae26"
      },
      "outputs": [
        {
          "data": {
            "text/plain": [
              "object_type\n",
              "кулинария      273\n",
              "закусочная     360\n",
              "кафетерий      398\n",
              "буфет          585\n",
              "бар            856\n",
              "фаст-фуд      1923\n",
              "ресторан      2285\n",
              "столовая      2587\n",
              "кафе          6099\n",
              "Name: object_name, dtype: int64"
            ]
          },
          "execution_count": 11,
          "metadata": {},
          "output_type": "execute_result"
        }
      ],
      "source": [
        "df.groupby('object_type')['object_name'].count().sort_values()"
      ]
    },
    {
      "cell_type": "markdown",
      "metadata": {
        "id": "xUZ6Om9IgomR"
      },
      "source": [
        "Вывод: больше всего кафе, столовых, ресторанов и фаст-фудов. Остальных - в разы меньше."
      ]
    },
    {
      "cell_type": "markdown",
      "metadata": {
        "id": "LZtXS6uRgomS"
      },
      "source": [
        "## Исследуйте соотношение сетевых и несетевых заведений по количеству. Постройте график."
      ]
    },
    {
      "cell_type": "code",
      "execution_count": null,
      "metadata": {
        "id": "X7OhSv1tgomS",
        "outputId": "6fff71bd-ef59-45a5-fa4f-f23f40a8bba7"
      },
      "outputs": [
        {
          "data": {
            "text/plain": [
              "chain\n",
              "сетевое       2968\n",
              "несетевое    12398\n",
              "Name: object_name, dtype: int64"
            ]
          },
          "execution_count": 12,
          "metadata": {},
          "output_type": "execute_result"
        }
      ],
      "source": [
        "df.groupby('chain')['object_name'].count().sort_values()"
      ]
    },
    {
      "cell_type": "code",
      "execution_count": null,
      "metadata": {
        "id": "PsgMUORMgomS",
        "outputId": "511561ab-41db-4083-a088-7b66d1070437"
      },
      "outputs": [
        {
          "data": {
            "image/png": "[encoded data removed]",
            "text/plain": [
              "<Figure size 432x288 with 1 Axes>"
            ]
          },
          "metadata": {
            "needs_background": "light"
          },
          "output_type": "display_data"
        }
      ],
      "source": [
        "ax = df.groupby('chain')['object_name'].count().sort_values().plot(kind='bar')\n",
        "ax.set_xlabel('Тип объекта')\n",
        "ax.set_ylabel('Количество объектов')\n",
        "ax.set_title('Кол-во сетевых и несетевых объектов общественного питания в Москве')\n",
        "plt.xticks(rotation=45)\n",
        "plt.show()"
      ]
    },
    {
      "cell_type": "markdown",
      "metadata": {
        "id": "6OJ7-vh3gomT"
      },
      "source": [
        "Вывод: несетевых объектов больше практически в 4 раза."
      ]
    },
    {
      "cell_type": "markdown",
      "metadata": {
        "id": "thJ9kzxUgomU"
      },
      "source": [
        "## Для какого вида объекта общественного питания характерно сетевое распространение?"
      ]
    },
    {
      "cell_type": "code",
      "execution_count": null,
      "metadata": {
        "id": "8l4S6r-sgomU",
        "outputId": "3e23b616-3986-4ae6-ffca-d7692d974c84"
      },
      "outputs": [
        {
          "data": {
            "text/html": [
              "<div>\n",
              "<style scoped>\n",
              "    .dataframe tbody tr th:only-of-type {\n",
              "        vertical-align: middle;\n",
              "    }\n",
              "\n",
              "    .dataframe tbody tr th {\n",
              "        vertical-align: top;\n",
              "    }\n",
              "\n",
              "    .dataframe thead th {\n",
              "        text-align: right;\n",
              "    }\n",
              "</style>\n",
              "<table border=\"1\" class=\"dataframe\">\n",
              "  <thead>\n",
              "    <tr style=\"text-align: right;\">\n",
              "      <th></th>\n",
              "      <th>id</th>\n",
              "      <th>object_name</th>\n",
              "      <th>chain</th>\n",
              "      <th>object_type</th>\n",
              "      <th>address</th>\n",
              "      <th>number</th>\n",
              "    </tr>\n",
              "  </thead>\n",
              "  <tbody>\n",
              "    <tr>\n",
              "      <td>3</td>\n",
              "      <td>21894</td>\n",
              "      <td>пиццетория</td>\n",
              "      <td>сетевое</td>\n",
              "      <td>кафе</td>\n",
              "      <td>город москва, абрамцевская улица, дом 1</td>\n",
              "      <td>40</td>\n",
              "    </tr>\n",
              "    <tr>\n",
              "      <td>6</td>\n",
              "      <td>148815</td>\n",
              "      <td>брусника</td>\n",
              "      <td>сетевое</td>\n",
              "      <td>кафе</td>\n",
              "      <td>город москва, переулок сивцев вражек, дом 6/2</td>\n",
              "      <td>10</td>\n",
              "    </tr>\n",
              "    <tr>\n",
              "      <td>13</td>\n",
              "      <td>22579</td>\n",
              "      <td>алло пицца</td>\n",
              "      <td>сетевое</td>\n",
              "      <td>кафе</td>\n",
              "      <td>город москва, улица авиаторов, дом 14</td>\n",
              "      <td>32</td>\n",
              "    </tr>\n",
              "    <tr>\n",
              "      <td>16</td>\n",
              "      <td>144107</td>\n",
              "      <td>суши wok</td>\n",
              "      <td>сетевое</td>\n",
              "      <td>фаст-фуд</td>\n",
              "      <td>город москва, азовская улица, дом 3</td>\n",
              "      <td>7</td>\n",
              "    </tr>\n",
              "    <tr>\n",
              "      <td>18</td>\n",
              "      <td>58565</td>\n",
              "      <td>тануки</td>\n",
              "      <td>сетевое</td>\n",
              "      <td>ресторан</td>\n",
              "      <td>город москва, большая академическая улица, дом 65</td>\n",
              "      <td>160</td>\n",
              "    </tr>\n",
              "    <tr>\n",
              "      <td>...</td>\n",
              "      <td>...</td>\n",
              "      <td>...</td>\n",
              "      <td>...</td>\n",
              "      <td>...</td>\n",
              "      <td>...</td>\n",
              "      <td>...</td>\n",
              "    </tr>\n",
              "    <tr>\n",
              "      <td>15361</td>\n",
              "      <td>208537</td>\n",
              "      <td>шоколадница</td>\n",
              "      <td>сетевое</td>\n",
              "      <td>кафе</td>\n",
              "      <td>город москва, 3-й крутицкий переулок, дом 18</td>\n",
              "      <td>50</td>\n",
              "    </tr>\n",
              "    <tr>\n",
              "      <td>15362</td>\n",
              "      <td>209264</td>\n",
              "      <td>шоколадница</td>\n",
              "      <td>сетевое</td>\n",
              "      <td>кафе</td>\n",
              "      <td>город москва, улица земляной вал, дом 33</td>\n",
              "      <td>10</td>\n",
              "    </tr>\n",
              "    <tr>\n",
              "      <td>15363</td>\n",
              "      <td>209186</td>\n",
              "      <td>шоколадница</td>\n",
              "      <td>сетевое</td>\n",
              "      <td>кафе</td>\n",
              "      <td>город москва, улица земляной вал, дом 33</td>\n",
              "      <td>20</td>\n",
              "    </tr>\n",
              "    <tr>\n",
              "      <td>15364</td>\n",
              "      <td>221900</td>\n",
              "      <td>шоколадница</td>\n",
              "      <td>сетевое</td>\n",
              "      <td>кафе</td>\n",
              "      <td>город москва, поселение московский, киевское ш...</td>\n",
              "      <td>36</td>\n",
              "    </tr>\n",
              "    <tr>\n",
              "      <td>15365</td>\n",
              "      <td>222535</td>\n",
              "      <td>шоколадница</td>\n",
              "      <td>сетевое</td>\n",
              "      <td>кафе</td>\n",
              "      <td>город москва, ходынский бульвар, дом 4</td>\n",
              "      <td>10</td>\n",
              "    </tr>\n",
              "  </tbody>\n",
              "</table>\n",
              "<p>2968 rows × 6 columns</p>\n",
              "</div>"
            ],
            "text/plain": [
              "           id  object_name    chain object_type  \\\n",
              "3       21894   пиццетория  сетевое        кафе   \n",
              "6      148815     брусника  сетевое        кафе   \n",
              "13      22579   алло пицца  сетевое        кафе   \n",
              "16     144107     суши wok  сетевое    фаст-фуд   \n",
              "18      58565       тануки  сетевое    ресторан   \n",
              "...       ...          ...      ...         ...   \n",
              "15361  208537  шоколадница  сетевое        кафе   \n",
              "15362  209264  шоколадница  сетевое        кафе   \n",
              "15363  209186  шоколадница  сетевое        кафе   \n",
              "15364  221900  шоколадница  сетевое        кафе   \n",
              "15365  222535  шоколадница  сетевое        кафе   \n",
              "\n",
              "                                                 address  number  \n",
              "3                город москва, абрамцевская улица, дом 1      40  \n",
              "6          город москва, переулок сивцев вражек, дом 6/2      10  \n",
              "13                 город москва, улица авиаторов, дом 14      32  \n",
              "16                   город москва, азовская улица, дом 3       7  \n",
              "18     город москва, большая академическая улица, дом 65     160  \n",
              "...                                                  ...     ...  \n",
              "15361       город москва, 3-й крутицкий переулок, дом 18      50  \n",
              "15362           город москва, улица земляной вал, дом 33      10  \n",
              "15363           город москва, улица земляной вал, дом 33      20  \n",
              "15364  город москва, поселение московский, киевское ш...      36  \n",
              "15365             город москва, ходынский бульвар, дом 4      10  \n",
              "\n",
              "[2968 rows x 6 columns]"
            ]
          },
          "execution_count": 14,
          "metadata": {},
          "output_type": "execute_result"
        }
      ],
      "source": [
        "df2 = df.query('chain == \"сетевое\"')\n",
        "df2"
      ]
    },
    {
      "cell_type": "code",
      "execution_count": null,
      "metadata": {
        "id": "2rFSWU4KgomV",
        "outputId": "157cc467-1534-464a-e840-6ea90d44c06c"
      },
      "outputs": [
        {
          "data": {
            "text/plain": [
              "object_type\n",
              "столовая         3\n",
              "буфет           11\n",
              "бар             37\n",
              "кафетерий       52\n",
              "закусочная      56\n",
              "кулинария       78\n",
              "ресторан       544\n",
              "фаст-фуд       791\n",
              "кафе          1396\n",
              "Name: object_name, dtype: int64"
            ]
          },
          "execution_count": 15,
          "metadata": {},
          "output_type": "execute_result"
        }
      ],
      "source": [
        "df3 = df2.groupby('object_type')['object_name'].count().sort_values()\n",
        "df3"
      ]
    },
    {
      "cell_type": "code",
      "execution_count": null,
      "metadata": {
        "id": "ClT6xFcTgomW",
        "outputId": "0f9a0de7-7f64-4b2f-f338-d584dd6596f7"
      },
      "outputs": [
        {
          "data": {
            "text/plain": [
              "object_type\n",
              "кулинария      273\n",
              "закусочная     360\n",
              "кафетерий      398\n",
              "буфет          585\n",
              "бар            856\n",
              "фаст-фуд      1923\n",
              "ресторан      2285\n",
              "столовая      2587\n",
              "кафе          6099\n",
              "Name: object_name, dtype: int64"
            ]
          },
          "execution_count": 16,
          "metadata": {},
          "output_type": "execute_result"
        }
      ],
      "source": [
        "df.groupby('object_type')['object_name'].count().sort_values()"
      ]
    },
    {
      "cell_type": "code",
      "execution_count": null,
      "metadata": {
        "id": "lzdTo-FqgomX",
        "outputId": "94270bc0-aa23-409c-b8a6-32f102a1c123"
      },
      "outputs": [
        {
          "data": {
            "image/png": "[encoded data removed]",
            "text/plain": [
              "<Figure size 432x288 with 1 Axes>"
            ]
          },
          "metadata": {
            "needs_background": "light"
          },
          "output_type": "display_data"
        }
      ],
      "source": [
        "ax = df2.groupby('object_type')['object_name'].count().sort_values().plot(kind='bar')\n",
        "ax.set_xlabel('Тип объекта')\n",
        "ax.set_ylabel('Количество объектов')\n",
        "ax.set_title('Кол-во сетевых объектов общественного питания в Москве')\n",
        "plt.xticks(rotation=45)\n",
        "plt.show()"
      ]
    },
    {
      "cell_type": "markdown",
      "metadata": {
        "id": "THYjNfP9gomX"
      },
      "source": [
        "Вывод: Наибольшее сетевое распространение в кафе. Если сопоставить график из п.1. и график из п.3. и данные заметим:\n",
        "\n",
        "1) Наименьше сетевых - столовая (менее 1%)\n",
        "\n",
        "2) Наибольше сетевых - фаст-фуд (41,1%), кулинария (более 28%), затем ресторан (23,8%), кафе (22,8%)."
      ]
    },
    {
      "cell_type": "markdown",
      "metadata": {
        "id": "OsUtYRxygoma"
      },
      "source": [
        "## Что характерно для сетевых заведений: много заведений с небольшим числом посадочных мест в каждом или мало заведений с большим количеством посадочных мест?"
      ]
    },
    {
      "cell_type": "code",
      "execution_count": null,
      "metadata": {
        "id": "2jG9l_PVgoma",
        "outputId": "56837fa1-1fbd-4c29-f064-55912950a6da"
      },
      "outputs": [
        {
          "data": {
            "image/png": "[encoded data removed]",
            "text/plain": [
              "<Figure size 432x288 with 1 Axes>"
            ]
          },
          "metadata": {
            "needs_background": "light"
          },
          "output_type": "display_data"
        },
        {
          "data": {
            "text/plain": [
              "count    2968.000000\n",
              "mean       52.919811\n",
              "std        57.140644\n",
              "min         0.000000\n",
              "25%        15.000000\n",
              "50%        40.000000\n",
              "75%        72.000000\n",
              "max       580.000000\n",
              "Name: number, dtype: float64"
            ]
          },
          "execution_count": 18,
          "metadata": {},
          "output_type": "execute_result"
        }
      ],
      "source": [
        "ax = df2['number'].hist(bins=20)\n",
        "ax.set_title('Кол-во заведений и кол-во мест')\n",
        "ax.set_xlabel('Количество объектов')\n",
        "ax.set_ylabel('Количество мест')\n",
        "plt.show()\n",
        "df2['number'].describe()"
      ]
    },
    {
      "cell_type": "code",
      "execution_count": null,
      "metadata": {
        "id": "KERB6WAhgomb",
        "outputId": "1bf9972b-a4aa-42ac-851a-f1ae989aa62e"
      },
      "outputs": [
        {
          "data": {
            "text/plain": [
              "Text(0.5, 0, 'Кол-во мест')"
            ]
          },
          "execution_count": 19,
          "metadata": {},
          "output_type": "execute_result"
        },
        {
          "data": {
            "image/png": "[encoded data removed]",
            "text/plain": [
              "<Figure size 432x288 with 1 Axes>"
            ]
          },
          "metadata": {
            "needs_background": "light"
          },
          "output_type": "display_data"
        }
      ],
      "source": [
        "ax = sns.boxplot(x=df2['number'], palette=\"Set2\")\n",
        "ax.set_xlabel('Кол-во мест')"
      ]
    },
    {
      "cell_type": "markdown",
      "metadata": {
        "id": "73zA0yjPgomb"
      },
      "source": [
        "Вывод: мест мало, заведений много."
      ]
    },
    {
      "cell_type": "markdown",
      "metadata": {
        "id": "l6uA90gJgomc"
      },
      "source": [
        "## Для каждого вида объекта общественного питания опишите среднее количество посадочных мест. Какой вид предоставляет в среднем самое большое количество посадочных мест? Постройте графики."
      ]
    },
    {
      "cell_type": "code",
      "execution_count": null,
      "metadata": {
        "id": "yz0BygrDgomc",
        "outputId": "72d27421-e58e-4733-9d4e-96d243ee2197"
      },
      "outputs": [
        {
          "data": {
            "image/png": "[encoded data removed]",
            "text/plain": [
              "<Figure size 432x288 with 1 Axes>"
            ]
          },
          "metadata": {
            "needs_background": "light"
          },
          "output_type": "display_data"
        }
      ],
      "source": [
        "ax = sns.boxplot(x='number', y='object_type', data=df, palette=\"Set2\")\n",
        "ax.set_xlim(-10,300)\n",
        "ax.set_xlabel('Тип объекта')\n",
        "ax.set_ylabel('Количество мест')\n",
        "ax.set_title('Cреднее количество посадочных мест')\n",
        "plt.show()"
      ]
    },
    {
      "cell_type": "code",
      "execution_count": null,
      "metadata": {
        "id": "CS9hmNdYgomd",
        "outputId": "7acc8ba8-72d0-4716-b688-e24be39fad4a"
      },
      "outputs": [
        {
          "data": {
            "text/html": [
              "<div>\n",
              "<style scoped>\n",
              "    .dataframe tbody tr th:only-of-type {\n",
              "        vertical-align: middle;\n",
              "    }\n",
              "\n",
              "    .dataframe tbody tr th {\n",
              "        vertical-align: top;\n",
              "    }\n",
              "\n",
              "    .dataframe thead th {\n",
              "        text-align: right;\n",
              "    }\n",
              "</style>\n",
              "<table border=\"1\" class=\"dataframe\">\n",
              "  <thead>\n",
              "    <tr style=\"text-align: right;\">\n",
              "      <th></th>\n",
              "      <th>count</th>\n",
              "      <th>mean</th>\n",
              "      <th>std</th>\n",
              "      <th>min</th>\n",
              "      <th>25%</th>\n",
              "      <th>50%</th>\n",
              "      <th>75%</th>\n",
              "      <th>max</th>\n",
              "    </tr>\n",
              "    <tr>\n",
              "      <th>object_type</th>\n",
              "      <th></th>\n",
              "      <th></th>\n",
              "      <th></th>\n",
              "      <th></th>\n",
              "      <th></th>\n",
              "      <th></th>\n",
              "      <th></th>\n",
              "      <th></th>\n",
              "    </tr>\n",
              "  </thead>\n",
              "  <tbody>\n",
              "    <tr>\n",
              "      <td>закусочная</td>\n",
              "      <td>360.0</td>\n",
              "      <td>7.608333</td>\n",
              "      <td>16.650912</td>\n",
              "      <td>0.0</td>\n",
              "      <td>0.0</td>\n",
              "      <td>0.0</td>\n",
              "      <td>10.0</td>\n",
              "      <td>216.0</td>\n",
              "    </tr>\n",
              "    <tr>\n",
              "      <td>кулинария</td>\n",
              "      <td>273.0</td>\n",
              "      <td>5.589744</td>\n",
              "      <td>9.872729</td>\n",
              "      <td>0.0</td>\n",
              "      <td>0.0</td>\n",
              "      <td>0.0</td>\n",
              "      <td>8.0</td>\n",
              "      <td>50.0</td>\n",
              "    </tr>\n",
              "    <tr>\n",
              "      <td>фаст-фуд</td>\n",
              "      <td>1923.0</td>\n",
              "      <td>20.552262</td>\n",
              "      <td>38.366974</td>\n",
              "      <td>0.0</td>\n",
              "      <td>0.0</td>\n",
              "      <td>5.0</td>\n",
              "      <td>25.0</td>\n",
              "      <td>580.0</td>\n",
              "    </tr>\n",
              "    <tr>\n",
              "      <td>кафетерий</td>\n",
              "      <td>398.0</td>\n",
              "      <td>9.123116</td>\n",
              "      <td>14.639150</td>\n",
              "      <td>0.0</td>\n",
              "      <td>0.0</td>\n",
              "      <td>6.0</td>\n",
              "      <td>12.0</td>\n",
              "      <td>200.0</td>\n",
              "    </tr>\n",
              "    <tr>\n",
              "      <td>кафе</td>\n",
              "      <td>6099.0</td>\n",
              "      <td>39.716019</td>\n",
              "      <td>37.720947</td>\n",
              "      <td>0.0</td>\n",
              "      <td>15.0</td>\n",
              "      <td>30.0</td>\n",
              "      <td>50.0</td>\n",
              "      <td>533.0</td>\n",
              "    </tr>\n",
              "    <tr>\n",
              "      <td>буфет</td>\n",
              "      <td>585.0</td>\n",
              "      <td>51.129915</td>\n",
              "      <td>56.331974</td>\n",
              "      <td>0.0</td>\n",
              "      <td>14.0</td>\n",
              "      <td>32.0</td>\n",
              "      <td>80.0</td>\n",
              "      <td>320.0</td>\n",
              "    </tr>\n",
              "    <tr>\n",
              "      <td>бар</td>\n",
              "      <td>856.0</td>\n",
              "      <td>43.494159</td>\n",
              "      <td>67.082876</td>\n",
              "      <td>0.0</td>\n",
              "      <td>20.0</td>\n",
              "      <td>35.0</td>\n",
              "      <td>50.0</td>\n",
              "      <td>1700.0</td>\n",
              "    </tr>\n",
              "    <tr>\n",
              "      <td>ресторан</td>\n",
              "      <td>2285.0</td>\n",
              "      <td>96.834136</td>\n",
              "      <td>94.756542</td>\n",
              "      <td>0.0</td>\n",
              "      <td>46.0</td>\n",
              "      <td>80.0</td>\n",
              "      <td>114.0</td>\n",
              "      <td>1500.0</td>\n",
              "    </tr>\n",
              "    <tr>\n",
              "      <td>столовая</td>\n",
              "      <td>2587.0</td>\n",
              "      <td>130.246618</td>\n",
              "      <td>95.179313</td>\n",
              "      <td>0.0</td>\n",
              "      <td>50.0</td>\n",
              "      <td>103.0</td>\n",
              "      <td>200.0</td>\n",
              "      <td>1400.0</td>\n",
              "    </tr>\n",
              "  </tbody>\n",
              "</table>\n",
              "</div>"
            ],
            "text/plain": [
              "              count        mean        std  min   25%    50%    75%     max\n",
              "object_type                                                                \n",
              "закусочная    360.0    7.608333  16.650912  0.0   0.0    0.0   10.0   216.0\n",
              "кулинария     273.0    5.589744   9.872729  0.0   0.0    0.0    8.0    50.0\n",
              "фаст-фуд     1923.0   20.552262  38.366974  0.0   0.0    5.0   25.0   580.0\n",
              "кафетерий     398.0    9.123116  14.639150  0.0   0.0    6.0   12.0   200.0\n",
              "кафе         6099.0   39.716019  37.720947  0.0  15.0   30.0   50.0   533.0\n",
              "буфет         585.0   51.129915  56.331974  0.0  14.0   32.0   80.0   320.0\n",
              "бар           856.0   43.494159  67.082876  0.0  20.0   35.0   50.0  1700.0\n",
              "ресторан     2285.0   96.834136  94.756542  0.0  46.0   80.0  114.0  1500.0\n",
              "столовая     2587.0  130.246618  95.179313  0.0  50.0  103.0  200.0  1400.0"
            ]
          },
          "execution_count": 21,
          "metadata": {},
          "output_type": "execute_result"
        }
      ],
      "source": [
        "df.groupby('object_type')['number'].describe().sort_values(by='50%')"
      ]
    },
    {
      "cell_type": "code",
      "execution_count": null,
      "metadata": {
        "id": "xQ8a2u-Hgomd",
        "outputId": "9f61c528-f7d6-4d1e-ce47-2097434ba997"
      },
      "outputs": [
        {
          "data": {
            "image/png": "[encoded data removed]",
            "text/plain": [
              "<Figure size 432x288 with 1 Axes>"
            ]
          },
          "metadata": {
            "needs_background": "light"
          },
          "output_type": "display_data"
        }
      ],
      "source": [
        "ax = sns.barplot(x='object_type', y='number', data=df, palette=\"Set2\")\n",
        "ax.set_xlabel('Тип объекта')\n",
        "ax.set_ylabel('Количество мест')\n",
        "ax.set_title('Кол-во мест на объектах общественного питания в Москве')\n",
        "plt.xticks(rotation=45)\n",
        "plt.show()"
      ]
    },
    {
      "cell_type": "markdown",
      "metadata": {
        "id": "6Dm8Zt0Dgomd"
      },
      "source": [
        "Вывод: лучшие показатели у столовой и ресторана."
      ]
    },
    {
      "cell_type": "markdown",
      "metadata": {
        "id": "6ozWJ8GJgomd"
      },
      "source": [
        "## Выделите в отдельный столбец информацию об улице из столбца address ."
      ]
    },
    {
      "cell_type": "code",
      "execution_count": null,
      "metadata": {
        "id": "cVWW03XKgome"
      },
      "outputs": [],
      "source": [
        "symbols = [',', '«', '»', '(', ')', '\"', '  ']\n",
        "for s in symbols:\n",
        "    df['object_name'] = df['object_name'].str.replace(s, ' ')\n",
        "    df['address'] = df['address'].str.replace(s, ' ')"
      ]
    },
    {
      "cell_type": "code",
      "execution_count": null,
      "metadata": {
        "id": "NVftmTL5gome",
        "outputId": "7606009e-2df3-42eb-8ca2-7c3a8775d8ea"
      },
      "outputs": [
        {
          "data": {
            "text/html": [
              "<div>\n",
              "<style scoped>\n",
              "    .dataframe tbody tr th:only-of-type {\n",
              "        vertical-align: middle;\n",
              "    }\n",
              "\n",
              "    .dataframe tbody tr th {\n",
              "        vertical-align: top;\n",
              "    }\n",
              "\n",
              "    .dataframe thead th {\n",
              "        text-align: right;\n",
              "    }\n",
              "</style>\n",
              "<table border=\"1\" class=\"dataframe\">\n",
              "  <thead>\n",
              "    <tr style=\"text-align: right;\">\n",
              "      <th></th>\n",
              "      <th>id</th>\n",
              "      <th>object_name</th>\n",
              "      <th>chain</th>\n",
              "      <th>object_type</th>\n",
              "      <th>address</th>\n",
              "      <th>number</th>\n",
              "      <th>street_name</th>\n",
              "    </tr>\n",
              "  </thead>\n",
              "  <tbody>\n",
              "    <tr>\n",
              "      <td>0</td>\n",
              "      <td>151635</td>\n",
              "      <td>сметана</td>\n",
              "      <td>несетевое</td>\n",
              "      <td>кафе</td>\n",
              "      <td>город москва улица егора абакумова дом 9</td>\n",
              "      <td>48</td>\n",
              "      <td>улица егора абакумова</td>\n",
              "    </tr>\n",
              "    <tr>\n",
              "      <td>1</td>\n",
              "      <td>77874</td>\n",
              "      <td>родник</td>\n",
              "      <td>несетевое</td>\n",
              "      <td>кафе</td>\n",
              "      <td>город москва улица талалихина дом 2/1 корпус 1</td>\n",
              "      <td>35</td>\n",
              "      <td>улица талалихина</td>\n",
              "    </tr>\n",
              "    <tr>\n",
              "      <td>2</td>\n",
              "      <td>24309</td>\n",
              "      <td>кафе академия</td>\n",
              "      <td>несетевое</td>\n",
              "      <td>кафе</td>\n",
              "      <td>город москва абельмановская улица дом 6</td>\n",
              "      <td>95</td>\n",
              "      <td>абельмановская улица</td>\n",
              "    </tr>\n",
              "    <tr>\n",
              "      <td>3</td>\n",
              "      <td>21894</td>\n",
              "      <td>пиццетория</td>\n",
              "      <td>сетевое</td>\n",
              "      <td>кафе</td>\n",
              "      <td>город москва абрамцевская улица дом 1</td>\n",
              "      <td>40</td>\n",
              "      <td>абрамцевская улица</td>\n",
              "    </tr>\n",
              "    <tr>\n",
              "      <td>4</td>\n",
              "      <td>119365</td>\n",
              "      <td>кафе вишневая метель</td>\n",
              "      <td>несетевое</td>\n",
              "      <td>кафе</td>\n",
              "      <td>город москва абрамцевская улица дом 9 корпус 1</td>\n",
              "      <td>50</td>\n",
              "      <td>абрамцевская улица</td>\n",
              "    </tr>\n",
              "  </tbody>\n",
              "</table>\n",
              "</div>"
            ],
            "text/plain": [
              "       id            object_name      chain object_type  \\\n",
              "0  151635                сметана  несетевое        кафе   \n",
              "1   77874                 родник  несетевое        кафе   \n",
              "2   24309         кафе академия   несетевое        кафе   \n",
              "3   21894             пиццетория    сетевое        кафе   \n",
              "4  119365  кафе вишневая метель   несетевое        кафе   \n",
              "\n",
              "                                          address  number  \\\n",
              "0        город москва улица егора абакумова дом 9      48   \n",
              "1  город москва улица талалихина дом 2/1 корпус 1      35   \n",
              "2         город москва абельмановская улица дом 6      95   \n",
              "3           город москва абрамцевская улица дом 1      40   \n",
              "4  город москва абрамцевская улица дом 9 корпус 1      50   \n",
              "\n",
              "              street_name  \n",
              "0   улица егора абакумова  \n",
              "1        улица талалихина  \n",
              "2    абельмановская улица  \n",
              "3      абрамцевская улица  \n",
              "4      абрамцевская улица  "
            ]
          },
          "execution_count": 24,
          "metadata": {},
          "output_type": "execute_result"
        }
      ],
      "source": [
        "streets = df['address'].to_list()\n",
        "streets_only = []\n",
        "for street in streets:  \n",
        "    start = street.find('город москва')\n",
        "    end = street.find('дом')\n",
        "    streets_only.append(street[start+12:end-1])\n",
        "df['street_name'] = streets_only\n",
        "df.head(5)"
      ]
    },
    {
      "cell_type": "markdown",
      "metadata": {
        "id": "1bmJt3odgome"
      },
      "source": [
        "## Постройте график топ-10 улиц по количеству объектов общественного питания. Воспользуйтесь внешней информацией и ответьте на вопрос — в каких районах Москвы находятся эти улицы?"
      ]
    },
    {
      "cell_type": "code",
      "execution_count": null,
      "metadata": {
        "id": "HZZpLJFWgome",
        "outputId": "4e811a2e-5d84-4edd-a166-344707ef8be8"
      },
      "outputs": [
        {
          "data": {
            "text/html": [
              "<div>\n",
              "<style scoped>\n",
              "    .dataframe tbody tr th:only-of-type {\n",
              "        vertical-align: middle;\n",
              "    }\n",
              "\n",
              "    .dataframe tbody tr th {\n",
              "        vertical-align: top;\n",
              "    }\n",
              "\n",
              "    .dataframe thead th {\n",
              "        text-align: right;\n",
              "    }\n",
              "</style>\n",
              "<table border=\"1\" class=\"dataframe\">\n",
              "  <thead>\n",
              "    <tr style=\"text-align: right;\">\n",
              "      <th></th>\n",
              "      <th>street_name</th>\n",
              "      <th>id</th>\n",
              "      <th>object_name</th>\n",
              "      <th>chain</th>\n",
              "      <th>object_type</th>\n",
              "      <th>address</th>\n",
              "      <th>number</th>\n",
              "    </tr>\n",
              "  </thead>\n",
              "  <tbody>\n",
              "    <tr>\n",
              "      <td>0</td>\n",
              "      <td>проспект мира</td>\n",
              "      <td>204</td>\n",
              "      <td>204</td>\n",
              "      <td>204</td>\n",
              "      <td>204</td>\n",
              "      <td>204</td>\n",
              "      <td>204</td>\n",
              "    </tr>\n",
              "    <tr>\n",
              "      <td>1</td>\n",
              "      <td>профсоюзная улица</td>\n",
              "      <td>182</td>\n",
              "      <td>182</td>\n",
              "      <td>182</td>\n",
              "      <td>182</td>\n",
              "      <td>182</td>\n",
              "      <td>182</td>\n",
              "    </tr>\n",
              "    <tr>\n",
              "      <td>2</td>\n",
              "      <td>ленинградский проспект</td>\n",
              "      <td>170</td>\n",
              "      <td>170</td>\n",
              "      <td>170</td>\n",
              "      <td>170</td>\n",
              "      <td>170</td>\n",
              "      <td>170</td>\n",
              "    </tr>\n",
              "    <tr>\n",
              "      <td>3</td>\n",
              "      <td>пресненская набережная</td>\n",
              "      <td>167</td>\n",
              "      <td>167</td>\n",
              "      <td>167</td>\n",
              "      <td>167</td>\n",
              "      <td>167</td>\n",
              "      <td>167</td>\n",
              "    </tr>\n",
              "    <tr>\n",
              "      <td>4</td>\n",
              "      <td>варшавское шоссе</td>\n",
              "      <td>155</td>\n",
              "      <td>155</td>\n",
              "      <td>155</td>\n",
              "      <td>155</td>\n",
              "      <td>155</td>\n",
              "      <td>155</td>\n",
              "    </tr>\n",
              "    <tr>\n",
              "      <td>5</td>\n",
              "      <td>ленинский проспект</td>\n",
              "      <td>147</td>\n",
              "      <td>147</td>\n",
              "      <td>147</td>\n",
              "      <td>147</td>\n",
              "      <td>147</td>\n",
              "      <td>147</td>\n",
              "    </tr>\n",
              "    <tr>\n",
              "      <td>6</td>\n",
              "      <td>проспект вернадского</td>\n",
              "      <td>131</td>\n",
              "      <td>131</td>\n",
              "      <td>131</td>\n",
              "      <td>131</td>\n",
              "      <td>131</td>\n",
              "      <td>131</td>\n",
              "    </tr>\n",
              "    <tr>\n",
              "      <td>7</td>\n",
              "      <td>кутузовский проспект</td>\n",
              "      <td>114</td>\n",
              "      <td>114</td>\n",
              "      <td>114</td>\n",
              "      <td>114</td>\n",
              "      <td>114</td>\n",
              "      <td>114</td>\n",
              "    </tr>\n",
              "    <tr>\n",
              "      <td>8</td>\n",
              "      <td>каширское шоссе</td>\n",
              "      <td>103</td>\n",
              "      <td>103</td>\n",
              "      <td>103</td>\n",
              "      <td>103</td>\n",
              "      <td>103</td>\n",
              "      <td>103</td>\n",
              "    </tr>\n",
              "    <tr>\n",
              "      <td>9</td>\n",
              "      <td>ходынский бульвар</td>\n",
              "      <td>102</td>\n",
              "      <td>102</td>\n",
              "      <td>102</td>\n",
              "      <td>102</td>\n",
              "      <td>102</td>\n",
              "      <td>102</td>\n",
              "    </tr>\n",
              "  </tbody>\n",
              "</table>\n",
              "</div>"
            ],
            "text/plain": [
              "               street_name   id  object_name  chain  object_type  address  \\\n",
              "0            проспект мира  204          204    204          204      204   \n",
              "1        профсоюзная улица  182          182    182          182      182   \n",
              "2   ленинградский проспект  170          170    170          170      170   \n",
              "3   пресненская набережная  167          167    167          167      167   \n",
              "4         варшавское шоссе  155          155    155          155      155   \n",
              "5       ленинский проспект  147          147    147          147      147   \n",
              "6     проспект вернадского  131          131    131          131      131   \n",
              "7     кутузовский проспект  114          114    114          114      114   \n",
              "8          каширское шоссе  103          103    103          103      103   \n",
              "9        ходынский бульвар  102          102    102          102      102   \n",
              "\n",
              "   number  \n",
              "0     204  \n",
              "1     182  \n",
              "2     170  \n",
              "3     167  \n",
              "4     155  \n",
              "5     147  \n",
              "6     131  \n",
              "7     114  \n",
              "8     103  \n",
              "9     102  "
            ]
          },
          "execution_count": 25,
          "metadata": {},
          "output_type": "execute_result"
        }
      ],
      "source": [
        "df4 = df.groupby('street_name').count().sort_values(by='object_type', ascending=False).head(10).reset_index()\n",
        "top_10 = list(df4['street_name'])\n",
        "df4"
      ]
    },
    {
      "cell_type": "code",
      "execution_count": null,
      "metadata": {
        "id": "JyfdYiKJgomf",
        "outputId": "cd14bee2-a582-45a1-f1b6-b7fced25733a"
      },
      "outputs": [
        {
          "data": {
            "image/png": "[encoded data removed]",
            "text/plain": [
              "<Figure size 432x288 with 1 Axes>"
            ]
          },
          "metadata": {
            "needs_background": "light"
          },
          "output_type": "display_data"
        }
      ],
      "source": [
        "ax = sns.barplot(x='object_type', y='street_name', data=df4, palette=\"Set2\")\n",
        "ax.set_xlabel('Количество объектов')\n",
        "ax.set_ylabel('Название улицы')\n",
        "ax.set_title('Топ-10 улиц по количеству объектов общественного питания')\n",
        "plt.xticks(rotation=45)\n",
        "plt.show()"
      ]
    },
    {
      "cell_type": "markdown",
      "metadata": {
        "id": "FTk6yo99gomf"
      },
      "source": [
        "1) Проспект Мира: Мещанский, Марьина Роща, Алексеевский, Останкинский, Свиблово, Ростокино\n",
        "\n",
        "2) Профсоюзная улица: Академический, Коньково, Обручевский, Тёплый Стан, Черёмушки, Ясенево\n",
        "\n",
        "3) Ленинградский проспект: Беговой, Аэропорт, Сокол, Хорошёвский\n",
        "\n",
        "4) Пресненская набережная: Пресненский\n",
        "\n",
        "5) Варшавское шоссе: Донской, Нагатино-Садовники, Нагорный\n",
        "\n",
        "6) Ленинский проспект: Гагаринский, Донской\n",
        "\n",
        "7) Проспект Вернадского: Проспект Вернадского\n",
        "\n",
        "8) Кутузовский проспект: Дорогомилово, Фили-Давыдково\n",
        "\n",
        "9) Каширское шоссе: Нагатино-Садовники, Нагорный\n",
        "\n",
        "10) Ходынский бульвар: Хорошёвский"
      ]
    },
    {
      "cell_type": "markdown",
      "metadata": {
        "id": "aaTdWxpegomh"
      },
      "source": [
        "## Найдите число улиц с одним объектом общественного питания. Воспользуйтесь внешней информацией и ответьте на вопрос — в каких районах Москвы находятся эти улицы?"
      ]
    },
    {
      "cell_type": "code",
      "execution_count": null,
      "metadata": {
        "id": "u77nnWWIgomh",
        "outputId": "295d3991-c9eb-495b-dd4a-733a5ed44eba"
      },
      "outputs": [
        {
          "data": {
            "text/plain": [
              "813"
            ]
          },
          "execution_count": 27,
          "metadata": {},
          "output_type": "execute_result"
        }
      ],
      "source": [
        "df5 = df.groupby('street_name').count()\n",
        "len(df5.query('id == 1'))"
      ]
    },
    {
      "cell_type": "code",
      "execution_count": null,
      "metadata": {
        "id": "kGnX1DeDgomh",
        "outputId": "748c766f-a1af-4165-e155-8155db2772cd"
      },
      "outputs": [
        {
          "data": {
            "text/html": [
              "<div>\n",
              "<style scoped>\n",
              "    .dataframe tbody tr th:only-of-type {\n",
              "        vertical-align: middle;\n",
              "    }\n",
              "\n",
              "    .dataframe tbody tr th {\n",
              "        vertical-align: top;\n",
              "    }\n",
              "\n",
              "    .dataframe thead th {\n",
              "        text-align: right;\n",
              "    }\n",
              "</style>\n",
              "<table border=\"1\" class=\"dataframe\">\n",
              "  <thead>\n",
              "    <tr style=\"text-align: right;\">\n",
              "      <th></th>\n",
              "      <th>street_name</th>\n",
              "      <th>id</th>\n",
              "      <th>object_name</th>\n",
              "      <th>chain</th>\n",
              "      <th>object_type</th>\n",
              "      <th>address</th>\n",
              "      <th>number</th>\n",
              "    </tr>\n",
              "  </thead>\n",
              "  <tbody>\n",
              "    <tr>\n",
              "      <td>0</td>\n",
              "      <td>1-й балтийский переулок</td>\n",
              "      <td>1</td>\n",
              "      <td>1</td>\n",
              "      <td>1</td>\n",
              "      <td>1</td>\n",
              "      <td>1</td>\n",
              "      <td>1</td>\n",
              "    </tr>\n",
              "    <tr>\n",
              "      <td>1</td>\n",
              "      <td>1-й басманный переулок</td>\n",
              "      <td>1</td>\n",
              "      <td>1</td>\n",
              "      <td>1</td>\n",
              "      <td>1</td>\n",
              "      <td>1</td>\n",
              "      <td>1</td>\n",
              "    </tr>\n",
              "    <tr>\n",
              "      <td>2</td>\n",
              "      <td>1-й ботанический проезд</td>\n",
              "      <td>1</td>\n",
              "      <td>1</td>\n",
              "      <td>1</td>\n",
              "      <td>1</td>\n",
              "      <td>1</td>\n",
              "      <td>1</td>\n",
              "    </tr>\n",
              "    <tr>\n",
              "      <td>3</td>\n",
              "      <td>1-й вешняковский проезд</td>\n",
              "      <td>1</td>\n",
              "      <td>1</td>\n",
              "      <td>1</td>\n",
              "      <td>1</td>\n",
              "      <td>1</td>\n",
              "      <td>1</td>\n",
              "    </tr>\n",
              "    <tr>\n",
              "      <td>4</td>\n",
              "      <td>1-й голутвинский переулок</td>\n",
              "      <td>1</td>\n",
              "      <td>1</td>\n",
              "      <td>1</td>\n",
              "      <td>1</td>\n",
              "      <td>1</td>\n",
              "      <td>1</td>\n",
              "    </tr>\n",
              "  </tbody>\n",
              "</table>\n",
              "</div>"
            ],
            "text/plain": [
              "                  street_name  id  object_name  chain  object_type  address  \\\n",
              "0     1-й балтийский переулок   1            1      1            1        1   \n",
              "1      1-й басманный переулок   1            1      1            1        1   \n",
              "2     1-й ботанический проезд   1            1      1            1        1   \n",
              "3     1-й вешняковский проезд   1            1      1            1        1   \n",
              "4   1-й голутвинский переулок   1            1      1            1        1   \n",
              "\n",
              "   number  \n",
              "0       1  \n",
              "1       1  \n",
              "2       1  \n",
              "3       1  \n",
              "4       1  "
            ]
          },
          "execution_count": 28,
          "metadata": {},
          "output_type": "execute_result"
        }
      ],
      "source": [
        "df5 = df5.query('id == 1')\n",
        "df5 = df5.reset_index()\n",
        "df5.head(5)"
      ]
    },
    {
      "cell_type": "markdown",
      "metadata": {
        "id": "UNubUtDTgomi"
      },
      "source": [
        "## Посмотрите на распределение количества посадочных мест для улиц с большим количеством объектов общественного питания. Какие закономерности можно выявить?"
      ]
    },
    {
      "cell_type": "code",
      "execution_count": null,
      "metadata": {
        "id": "CWebT5f_gomi",
        "outputId": "3049796b-3637-4f42-8c80-727195ddb942"
      },
      "outputs": [
        {
          "data": {
            "image/png": "[encoded data removed]",
            "text/plain": [
              "<Figure size 432x288 with 1 Axes>"
            ]
          },
          "metadata": {
            "needs_background": "light"
          },
          "output_type": "display_data"
        }
      ],
      "source": [
        "df7 = df[df['street_name'].isin(top_10)]\n",
        "ax = sns.boxplot(x=df7['number'], palette=\"Set2\")\n",
        "ax.set_xlabel('Кол-во мест')\n",
        "ax.set_xlim(-10,200)\n",
        "plt.show()"
      ]
    },
    {
      "cell_type": "code",
      "execution_count": null,
      "metadata": {
        "id": "U1-UrPzwgomi",
        "outputId": "6b5277ba-42d7-472b-b06c-5b8c2bef9a3b"
      },
      "outputs": [
        {
          "data": {
            "image/png": "[encoded data removed]",
            "text/plain": [
              "<Figure size 432x288 with 1 Axes>"
            ]
          },
          "metadata": {
            "needs_background": "light"
          },
          "output_type": "display_data"
        }
      ],
      "source": [
        "ax = df7['number'].hist(bins=50)\n",
        "ax.set_title('Кол-во заведений и кол-во мест')\n",
        "ax.set_xlabel('Количество объектов')\n",
        "ax.set_ylabel('Количество мест')\n",
        "plt.show()"
      ]
    },
    {
      "cell_type": "code",
      "execution_count": null,
      "metadata": {
        "id": "4SnjqnQbgomi",
        "outputId": "0560529c-f900-43a3-e2fe-1da4fb4432c0"
      },
      "outputs": [
        {
          "data": {
            "image/png": "[encoded data removed]",
            "text/plain": [
              "<Figure size 432x288 with 1 Axes>"
            ]
          },
          "metadata": {
            "needs_background": "light"
          },
          "output_type": "display_data"
        },
        {
          "data": {
            "text/plain": [
              "count    813.0\n",
              "mean       1.0\n",
              "std        0.0\n",
              "min        1.0\n",
              "25%        1.0\n",
              "50%        1.0\n",
              "75%        1.0\n",
              "max        1.0\n",
              "Name: number, dtype: float64"
            ]
          },
          "execution_count": 31,
          "metadata": {},
          "output_type": "execute_result"
        }
      ],
      "source": [
        "ax = sns.boxplot(x=\"street_name\", y=\"number\", data=df7, orient='v', palette=\"Set2\")\n",
        "ax.set_ylabel('Количество мест')\n",
        "ax.set_title('Кол-во заведений и кол-во мест')\n",
        "ax.set_xlabel('Название улицы')\n",
        "plt.xticks(rotation=45)\n",
        "ax.set_ylim(-10,300)\n",
        "plt.show()\n",
        "df5['number'].describe()"
      ]
    },
    {
      "cell_type": "markdown",
      "metadata": {
        "id": "uwMDj4EXgomi"
      },
      "source": [
        "Вывод: метры - дорогие, мест - немного."
      ]
    },
    {
      "cell_type": "markdown",
      "metadata": {
        "id": "OEQcxIWlgomj"
      },
      "source": [
        "# Презентация"
      ]
    },
    {
      "cell_type": "markdown",
      "metadata": {
        "id": "nq71Qg5Mgomj"
      },
      "source": [
        "Презентация: https://docs.google.com/presentation/d/1WdQhzyMeLVaH4vz8hwqjQE7LmbTQIa1m/edit?usp=sharing&ouid=113249843605384895897&rtpof=true&sd=true\n",
        "\n",
        "Презентация (pdf): https://drive.google.com/file/d/1gBbmBa4WBV4a0onnYUCD39RQEMYXmM7e/view?usp=sharing"
      ]
    },
    {
      "cell_type": "code",
      "execution_count": null,
      "metadata": {
        "id": "AJfI2sO9gomk"
      },
      "outputs": [],
      "source": [
        ""
      ]
    }
  ],
  "metadata": {
    "ExecuteTimeLog": [
      {
        "duration": 1332,
        "start_time": "2022-01-12T19:19:59.428Z"
      },
      {
        "duration": 9,
        "start_time": "2022-01-12T19:20:12.195Z"
      },
      {
        "duration": 7,
        "start_time": "2022-01-12T19:37:23.689Z"
      },
      {
        "duration": 45,
        "start_time": "2022-01-12T19:38:10.839Z"
      },
      {
        "duration": 9,
        "start_time": "2022-01-12T19:38:11.610Z"
      },
      {
        "duration": 7,
        "start_time": "2022-01-12T19:38:12.255Z"
      },
      {
        "duration": 16,
        "start_time": "2022-01-12T19:38:48.226Z"
      },
      {
        "duration": 26,
        "start_time": "2022-01-12T19:44:40.171Z"
      },
      {
        "duration": 8,
        "start_time": "2022-01-12T19:44:40.757Z"
      },
      {
        "duration": 19,
        "start_time": "2022-01-12T19:44:41.332Z"
      },
      {
        "duration": 9,
        "start_time": "2022-01-12T19:45:07.081Z"
      },
      {
        "duration": 344,
        "start_time": "2022-01-12T19:50:09.460Z"
      },
      {
        "duration": 224,
        "start_time": "2022-01-12T19:50:33.906Z"
      },
      {
        "duration": 218,
        "start_time": "2022-01-12T19:50:51.085Z"
      },
      {
        "duration": 1946,
        "start_time": "2022-01-12T19:51:48.558Z"
      },
      {
        "duration": 8,
        "start_time": "2022-01-12T19:51:50.506Z"
      },
      {
        "duration": 28,
        "start_time": "2022-01-12T19:51:50.516Z"
      },
      {
        "duration": 24,
        "start_time": "2022-01-12T19:51:50.546Z"
      },
      {
        "duration": 6,
        "start_time": "2022-01-12T19:51:50.572Z"
      },
      {
        "duration": 42,
        "start_time": "2022-01-12T19:51:50.579Z"
      },
      {
        "duration": 12,
        "start_time": "2022-01-12T19:51:50.623Z"
      },
      {
        "duration": 211,
        "start_time": "2022-01-12T19:51:50.637Z"
      },
      {
        "duration": 102,
        "start_time": "2022-01-12T19:52:55.416Z"
      },
      {
        "duration": 205,
        "start_time": "2022-01-12T19:53:00.934Z"
      },
      {
        "duration": 217,
        "start_time": "2022-01-12T19:54:30.698Z"
      },
      {
        "duration": 7,
        "start_time": "2022-01-12T19:54:52.452Z"
      },
      {
        "duration": 150,
        "start_time": "2022-01-12T19:55:02.313Z"
      },
      {
        "duration": 8,
        "start_time": "2022-01-12T19:55:42.340Z"
      },
      {
        "duration": 1590,
        "start_time": "2022-01-13T10:34:35.489Z"
      },
      {
        "duration": 11,
        "start_time": "2022-01-13T10:34:37.082Z"
      },
      {
        "duration": 68,
        "start_time": "2022-01-13T10:34:37.096Z"
      },
      {
        "duration": 61,
        "start_time": "2022-01-13T10:34:37.168Z"
      },
      {
        "duration": 14,
        "start_time": "2022-01-13T10:34:37.232Z"
      },
      {
        "duration": 33,
        "start_time": "2022-01-13T10:34:37.249Z"
      },
      {
        "duration": 24,
        "start_time": "2022-01-13T10:34:37.283Z"
      },
      {
        "duration": 266,
        "start_time": "2022-01-13T10:34:37.309Z"
      },
      {
        "duration": 9,
        "start_time": "2022-01-13T10:34:37.576Z"
      },
      {
        "duration": 7,
        "start_time": "2022-01-13T10:34:37.599Z"
      },
      {
        "duration": 190,
        "start_time": "2022-01-13T10:34:37.608Z"
      },
      {
        "duration": 351,
        "start_time": "2022-01-13T10:36:35.345Z"
      },
      {
        "duration": 241,
        "start_time": "2022-01-13T10:38:06.601Z"
      },
      {
        "duration": 9,
        "start_time": "2022-01-13T10:38:07.569Z"
      },
      {
        "duration": 8,
        "start_time": "2022-01-13T10:38:15.160Z"
      },
      {
        "duration": 183,
        "start_time": "2022-01-13T10:38:15.664Z"
      },
      {
        "duration": 68,
        "start_time": "2022-01-13T10:41:52.124Z"
      },
      {
        "duration": 8,
        "start_time": "2022-01-13T10:43:17.935Z"
      },
      {
        "duration": 10,
        "start_time": "2022-01-13T10:43:38.462Z"
      },
      {
        "duration": 219,
        "start_time": "2022-01-13T10:44:32.004Z"
      },
      {
        "duration": 11,
        "start_time": "2022-01-13T10:47:49.202Z"
      },
      {
        "duration": 229,
        "start_time": "2022-01-13T10:47:49.709Z"
      },
      {
        "duration": 13,
        "start_time": "2022-01-13T10:52:12.915Z"
      },
      {
        "duration": 12,
        "start_time": "2022-01-13T10:52:39.432Z"
      },
      {
        "duration": 20,
        "start_time": "2022-01-13T10:53:09.261Z"
      },
      {
        "duration": 18,
        "start_time": "2022-01-13T10:53:57.870Z"
      },
      {
        "duration": 11,
        "start_time": "2022-01-13T10:54:04.692Z"
      },
      {
        "duration": 10,
        "start_time": "2022-01-13T10:54:15.365Z"
      },
      {
        "duration": 12,
        "start_time": "2022-01-13T10:54:28.527Z"
      },
      {
        "duration": 9,
        "start_time": "2022-01-13T10:54:42.235Z"
      },
      {
        "duration": 82,
        "start_time": "2022-01-13T10:55:08.664Z"
      },
      {
        "duration": 217,
        "start_time": "2022-01-13T10:55:20.846Z"
      },
      {
        "duration": 8,
        "start_time": "2022-01-13T10:55:28.086Z"
      },
      {
        "duration": 10,
        "start_time": "2022-01-13T10:56:16.754Z"
      },
      {
        "duration": 7,
        "start_time": "2022-01-13T10:56:27.399Z"
      },
      {
        "duration": 9,
        "start_time": "2022-01-13T10:56:33.514Z"
      },
      {
        "duration": 217,
        "start_time": "2022-01-13T10:56:39.717Z"
      },
      {
        "duration": 6,
        "start_time": "2022-01-13T10:57:00.992Z"
      },
      {
        "duration": 8,
        "start_time": "2022-01-13T10:57:08.683Z"
      },
      {
        "duration": 243,
        "start_time": "2022-01-13T10:57:13.100Z"
      },
      {
        "duration": 7,
        "start_time": "2022-01-13T10:57:33.263Z"
      },
      {
        "duration": 6,
        "start_time": "2022-01-13T10:57:51.768Z"
      },
      {
        "duration": 212,
        "start_time": "2022-01-13T10:57:52.680Z"
      },
      {
        "duration": 224,
        "start_time": "2022-01-13T10:58:07.720Z"
      },
      {
        "duration": 225,
        "start_time": "2022-01-13T10:58:08.176Z"
      },
      {
        "duration": 6,
        "start_time": "2022-01-13T10:58:10.463Z"
      },
      {
        "duration": 8,
        "start_time": "2022-01-13T10:58:10.834Z"
      },
      {
        "duration": 221,
        "start_time": "2022-01-13T10:58:11.419Z"
      },
      {
        "duration": 6,
        "start_time": "2022-01-13T10:58:43.119Z"
      },
      {
        "duration": 8,
        "start_time": "2022-01-13T10:58:48.095Z"
      },
      {
        "duration": 223,
        "start_time": "2022-01-13T10:58:51.897Z"
      },
      {
        "duration": 219,
        "start_time": "2022-01-13T11:01:18.187Z"
      },
      {
        "duration": 10,
        "start_time": "2022-01-13T11:01:48.252Z"
      },
      {
        "duration": 11,
        "start_time": "2022-01-13T11:02:07.069Z"
      },
      {
        "duration": 11,
        "start_time": "2022-01-13T11:02:16.252Z"
      },
      {
        "duration": 8,
        "start_time": "2022-01-13T11:02:22.024Z"
      },
      {
        "duration": 231,
        "start_time": "2022-01-13T11:02:53.372Z"
      },
      {
        "duration": 10,
        "start_time": "2022-01-13T11:03:11.917Z"
      },
      {
        "duration": 7,
        "start_time": "2022-01-13T11:03:20.787Z"
      },
      {
        "duration": 7,
        "start_time": "2022-01-13T11:03:46.144Z"
      },
      {
        "duration": 7,
        "start_time": "2022-01-13T11:03:48.639Z"
      },
      {
        "duration": 7,
        "start_time": "2022-01-13T11:03:48.982Z"
      },
      {
        "duration": 9,
        "start_time": "2022-01-13T11:03:54.015Z"
      },
      {
        "duration": 228,
        "start_time": "2022-01-13T11:04:02.534Z"
      },
      {
        "duration": 15,
        "start_time": "2022-01-13T11:04:24.183Z"
      },
      {
        "duration": 224,
        "start_time": "2022-01-13T11:14:25.158Z"
      },
      {
        "duration": 9,
        "start_time": "2022-01-13T11:14:56.062Z"
      },
      {
        "duration": 8,
        "start_time": "2022-01-13T11:21:50.068Z"
      },
      {
        "duration": 1511,
        "start_time": "2022-01-13T11:21:55.995Z"
      },
      {
        "duration": 10,
        "start_time": "2022-01-13T11:21:57.508Z"
      },
      {
        "duration": 31,
        "start_time": "2022-01-13T11:21:57.520Z"
      },
      {
        "duration": 47,
        "start_time": "2022-01-13T11:21:57.553Z"
      },
      {
        "duration": 9,
        "start_time": "2022-01-13T11:21:57.602Z"
      },
      {
        "duration": 24,
        "start_time": "2022-01-13T11:21:57.612Z"
      },
      {
        "duration": 10,
        "start_time": "2022-01-13T11:21:57.638Z"
      },
      {
        "duration": 285,
        "start_time": "2022-01-13T11:21:57.650Z"
      },
      {
        "duration": 9,
        "start_time": "2022-01-13T11:21:57.937Z"
      },
      {
        "duration": 13,
        "start_time": "2022-01-13T11:21:57.947Z"
      },
      {
        "duration": 199,
        "start_time": "2022-01-13T11:21:57.962Z"
      },
      {
        "duration": 8,
        "start_time": "2022-01-13T11:21:58.164Z"
      },
      {
        "duration": 26,
        "start_time": "2022-01-13T11:21:58.174Z"
      },
      {
        "duration": 8,
        "start_time": "2022-01-13T11:21:58.202Z"
      },
      {
        "duration": 242,
        "start_time": "2022-01-13T11:21:58.212Z"
      },
      {
        "duration": 377,
        "start_time": "2022-01-13T11:21:58.456Z"
      },
      {
        "duration": 11,
        "start_time": "2022-01-13T11:22:19.648Z"
      },
      {
        "duration": 6231,
        "start_time": "2022-01-13T11:22:44.770Z"
      },
      {
        "duration": 233,
        "start_time": "2022-01-13T11:23:04.122Z"
      },
      {
        "duration": 15,
        "start_time": "2022-01-13T11:23:13.753Z"
      },
      {
        "duration": 5707,
        "start_time": "2022-01-13T11:23:45.353Z"
      },
      {
        "duration": 149,
        "start_time": "2022-01-13T11:23:51.339Z"
      },
      {
        "duration": 510,
        "start_time": "2022-01-13T11:24:51.681Z"
      },
      {
        "duration": 301,
        "start_time": "2022-01-13T11:24:56.619Z"
      },
      {
        "duration": 336,
        "start_time": "2022-01-13T11:29:43.362Z"
      },
      {
        "duration": 326,
        "start_time": "2022-01-13T11:29:50.188Z"
      },
      {
        "duration": 335,
        "start_time": "2022-01-13T11:29:54.693Z"
      },
      {
        "duration": 246,
        "start_time": "2022-01-13T11:29:58.855Z"
      },
      {
        "duration": 340,
        "start_time": "2022-01-13T11:30:04.457Z"
      },
      {
        "duration": 333,
        "start_time": "2022-01-13T11:30:13.510Z"
      },
      {
        "duration": 339,
        "start_time": "2022-01-13T11:30:20.817Z"
      },
      {
        "duration": 425,
        "start_time": "2022-01-13T11:30:26.933Z"
      },
      {
        "duration": 237,
        "start_time": "2022-01-13T11:30:40.315Z"
      },
      {
        "duration": 37,
        "start_time": "2022-01-13T11:30:47.585Z"
      },
      {
        "duration": 719,
        "start_time": "2022-01-13T11:31:07.651Z"
      },
      {
        "duration": 333,
        "start_time": "2022-01-13T11:31:27.781Z"
      },
      {
        "duration": 355,
        "start_time": "2022-01-13T11:31:59.487Z"
      },
      {
        "duration": 36,
        "start_time": "2022-01-13T11:32:00.497Z"
      },
      {
        "duration": 738,
        "start_time": "2022-01-13T11:32:01.500Z"
      },
      {
        "duration": 23,
        "start_time": "2022-01-13T11:34:57.570Z"
      },
      {
        "duration": 120,
        "start_time": "2022-01-13T11:35:29.698Z"
      },
      {
        "duration": 24,
        "start_time": "2022-01-13T11:35:30.180Z"
      },
      {
        "duration": 12,
        "start_time": "2022-01-13T11:36:14.855Z"
      },
      {
        "duration": 13,
        "start_time": "2022-01-13T11:36:31.831Z"
      },
      {
        "duration": 250,
        "start_time": "2022-01-13T11:38:29.274Z"
      },
      {
        "duration": 23,
        "start_time": "2022-01-13T11:38:37.238Z"
      },
      {
        "duration": 280,
        "start_time": "2022-01-13T11:39:02.977Z"
      },
      {
        "duration": 5803,
        "start_time": "2022-01-13T11:42:04.362Z"
      },
      {
        "duration": 157,
        "start_time": "2022-01-13T11:42:11.903Z"
      },
      {
        "duration": -222,
        "start_time": "2022-01-13T11:43:03.421Z"
      },
      {
        "duration": 299,
        "start_time": "2022-01-13T11:43:03.259Z"
      },
      {
        "duration": 489,
        "start_time": "2022-01-13T11:43:15.662Z"
      },
      {
        "duration": 385,
        "start_time": "2022-01-13T11:43:30.991Z"
      },
      {
        "duration": 155,
        "start_time": "2022-01-13T11:43:40.842Z"
      },
      {
        "duration": 159,
        "start_time": "2022-01-13T11:43:53.494Z"
      },
      {
        "duration": 17,
        "start_time": "2022-01-13T11:55:59.277Z"
      },
      {
        "duration": 229,
        "start_time": "2022-01-13T11:56:46.834Z"
      },
      {
        "duration": 22,
        "start_time": "2022-01-13T11:57:13.730Z"
      },
      {
        "duration": 221,
        "start_time": "2022-01-13T11:58:05.818Z"
      },
      {
        "duration": 238,
        "start_time": "2022-01-13T11:58:17.910Z"
      },
      {
        "duration": 231,
        "start_time": "2022-01-13T12:00:22.558Z"
      },
      {
        "duration": 11,
        "start_time": "2022-01-13T12:00:46.961Z"
      },
      {
        "duration": 15,
        "start_time": "2022-01-13T12:01:50.086Z"
      },
      {
        "duration": 20,
        "start_time": "2022-01-13T12:02:00.552Z"
      },
      {
        "duration": 7,
        "start_time": "2022-01-13T12:04:13.992Z"
      },
      {
        "duration": 7,
        "start_time": "2022-01-13T12:04:20.529Z"
      },
      {
        "duration": 154,
        "start_time": "2022-01-13T12:04:35.947Z"
      },
      {
        "duration": 147,
        "start_time": "2022-01-13T12:04:39.483Z"
      },
      {
        "duration": 312,
        "start_time": "2022-01-13T12:04:40.206Z"
      },
      {
        "duration": 395,
        "start_time": "2022-01-13T12:04:40.930Z"
      },
      {
        "duration": 159,
        "start_time": "2022-01-13T12:04:46.753Z"
      },
      {
        "duration": 299,
        "start_time": "2022-01-13T12:04:47.479Z"
      },
      {
        "duration": 506,
        "start_time": "2022-01-13T12:04:47.780Z"
      },
      {
        "duration": 11,
        "start_time": "2022-01-13T12:04:51.614Z"
      },
      {
        "duration": 13,
        "start_time": "2022-01-13T12:04:56.931Z"
      },
      {
        "duration": 6,
        "start_time": "2022-01-13T12:05:21.383Z"
      },
      {
        "duration": 12,
        "start_time": "2022-01-13T12:05:26.360Z"
      },
      {
        "duration": 291,
        "start_time": "2022-01-13T12:05:30.644Z"
      },
      {
        "duration": 238,
        "start_time": "2022-01-13T12:05:31.891Z"
      },
      {
        "duration": 1560,
        "start_time": "2022-01-13T12:05:41.652Z"
      },
      {
        "duration": 11,
        "start_time": "2022-01-13T12:05:43.215Z"
      },
      {
        "duration": 34,
        "start_time": "2022-01-13T12:05:43.229Z"
      },
      {
        "duration": 51,
        "start_time": "2022-01-13T12:05:43.266Z"
      },
      {
        "duration": 8,
        "start_time": "2022-01-13T12:05:43.319Z"
      },
      {
        "duration": 23,
        "start_time": "2022-01-13T12:05:43.329Z"
      },
      {
        "duration": 10,
        "start_time": "2022-01-13T12:05:43.354Z"
      },
      {
        "duration": 278,
        "start_time": "2022-01-13T12:05:43.367Z"
      },
      {
        "duration": 8,
        "start_time": "2022-01-13T12:05:43.648Z"
      },
      {
        "duration": 8,
        "start_time": "2022-01-13T12:05:43.658Z"
      },
      {
        "duration": 207,
        "start_time": "2022-01-13T12:05:43.667Z"
      },
      {
        "duration": 30,
        "start_time": "2022-01-13T12:05:43.876Z"
      },
      {
        "duration": 9,
        "start_time": "2022-01-13T12:05:43.908Z"
      },
      {
        "duration": 16,
        "start_time": "2022-01-13T12:05:43.918Z"
      },
      {
        "duration": 252,
        "start_time": "2022-01-13T12:05:43.936Z"
      },
      {
        "duration": 251,
        "start_time": "2022-01-13T12:05:44.190Z"
      },
      {
        "duration": 163,
        "start_time": "2022-01-13T12:05:44.442Z"
      },
      {
        "duration": 367,
        "start_time": "2022-01-13T12:05:44.607Z"
      },
      {
        "duration": 51,
        "start_time": "2022-01-13T12:05:44.976Z"
      },
      {
        "duration": 849,
        "start_time": "2022-01-13T12:05:45.029Z"
      },
      {
        "duration": 124,
        "start_time": "2022-01-13T12:05:45.881Z"
      },
      {
        "duration": 28,
        "start_time": "2022-01-13T12:05:46.007Z"
      },
      {
        "duration": 28,
        "start_time": "2022-01-13T12:05:46.038Z"
      },
      {
        "duration": 306,
        "start_time": "2022-01-13T12:05:46.068Z"
      },
      {
        "duration": 345,
        "start_time": "2022-01-13T12:05:46.376Z"
      },
      {
        "duration": -275,
        "start_time": "2022-01-13T12:05:46.998Z"
      },
      {
        "duration": -282,
        "start_time": "2022-01-13T12:05:47.006Z"
      },
      {
        "duration": -286,
        "start_time": "2022-01-13T12:05:47.011Z"
      },
      {
        "duration": -290,
        "start_time": "2022-01-13T12:05:47.016Z"
      },
      {
        "duration": -295,
        "start_time": "2022-01-13T12:05:47.022Z"
      },
      {
        "duration": 18,
        "start_time": "2022-01-13T12:06:05.338Z"
      },
      {
        "duration": 307,
        "start_time": "2022-01-13T12:06:06.001Z"
      },
      {
        "duration": 19,
        "start_time": "2022-01-13T12:06:14.435Z"
      },
      {
        "duration": 15,
        "start_time": "2022-01-13T12:06:16.176Z"
      },
      {
        "duration": 22591,
        "start_time": "2022-01-13T12:07:52.415Z"
      },
      {
        "duration": 13,
        "start_time": "2022-01-13T12:09:13.424Z"
      },
      {
        "duration": 166,
        "start_time": "2022-01-13T12:09:42.756Z"
      },
      {
        "duration": 506,
        "start_time": "2022-01-13T12:09:43.226Z"
      },
      {
        "duration": 397,
        "start_time": "2022-01-13T12:09:43.994Z"
      },
      {
        "duration": 179,
        "start_time": "2022-01-13T13:20:29.938Z"
      },
      {
        "duration": 232,
        "start_time": "2022-01-13T13:21:44.321Z"
      },
      {
        "duration": 251,
        "start_time": "2022-01-13T13:22:01.293Z"
      },
      {
        "duration": 250,
        "start_time": "2022-01-13T13:22:48.788Z"
      },
      {
        "duration": 157,
        "start_time": "2022-01-13T13:27:12.369Z"
      },
      {
        "duration": 321,
        "start_time": "2022-01-13T13:28:04.583Z"
      },
      {
        "duration": 401,
        "start_time": "2022-01-13T13:29:00.614Z"
      },
      {
        "duration": 2059,
        "start_time": "2022-01-14T11:53:39.907Z"
      },
      {
        "duration": 12,
        "start_time": "2022-01-14T11:53:41.968Z"
      },
      {
        "duration": 42,
        "start_time": "2022-01-14T11:53:43.712Z"
      },
      {
        "duration": 51,
        "start_time": "2022-01-14T11:53:44.172Z"
      },
      {
        "duration": 11,
        "start_time": "2022-01-14T11:53:44.881Z"
      },
      {
        "duration": 29,
        "start_time": "2022-01-14T11:53:45.536Z"
      },
      {
        "duration": 14,
        "start_time": "2022-01-14T11:54:29.744Z"
      },
      {
        "duration": 342,
        "start_time": "2022-01-14T11:54:31.337Z"
      },
      {
        "duration": 11,
        "start_time": "2022-01-14T11:54:35.050Z"
      },
      {
        "duration": 13,
        "start_time": "2022-01-14T11:54:36.555Z"
      },
      {
        "duration": 257,
        "start_time": "2022-01-14T11:54:40.804Z"
      },
      {
        "duration": 30,
        "start_time": "2022-01-14T11:54:42.615Z"
      },
      {
        "duration": 12,
        "start_time": "2022-01-14T11:54:52.906Z"
      },
      {
        "duration": 11,
        "start_time": "2022-01-14T11:54:53.181Z"
      },
      {
        "duration": 313,
        "start_time": "2022-01-14T11:54:53.484Z"
      },
      {
        "duration": 307,
        "start_time": "2022-01-14T11:55:13.131Z"
      },
      {
        "duration": 328,
        "start_time": "2022-01-14T11:55:19.191Z"
      },
      {
        "duration": 383,
        "start_time": "2022-01-14T11:55:23.252Z"
      },
      {
        "duration": 328,
        "start_time": "2022-01-14T11:55:25.251Z"
      },
      {
        "duration": 493,
        "start_time": "2022-01-14T11:55:53.755Z"
      },
      {
        "duration": 72,
        "start_time": "2022-01-14T11:55:54.252Z"
      },
      {
        "duration": 1111,
        "start_time": "2022-01-14T11:55:55.043Z"
      },
      {
        "duration": 183,
        "start_time": "2022-01-14T11:56:08.088Z"
      },
      {
        "duration": 42,
        "start_time": "2022-01-14T11:56:08.784Z"
      },
      {
        "duration": 43,
        "start_time": "2022-01-14T11:56:12.652Z"
      },
      {
        "duration": 381,
        "start_time": "2022-01-14T11:56:13.131Z"
      },
      {
        "duration": 30,
        "start_time": "2022-01-14T11:57:47.577Z"
      },
      {
        "duration": 18,
        "start_time": "2022-01-14T11:57:47.981Z"
      },
      {
        "duration": 229,
        "start_time": "2022-01-14T11:57:50.498Z"
      },
      {
        "duration": 449,
        "start_time": "2022-01-14T11:57:51.381Z"
      },
      {
        "duration": 551,
        "start_time": "2022-01-14T11:57:52.891Z"
      },
      {
        "duration": 8,
        "start_time": "2022-01-14T12:24:35.620Z"
      },
      {
        "duration": 548,
        "start_time": "2022-01-14T12:24:40.254Z"
      },
      {
        "duration": 351,
        "start_time": "2022-01-14T12:24:52.294Z"
      },
      {
        "duration": 16,
        "start_time": "2022-01-14T12:25:05.442Z"
      },
      {
        "duration": 30,
        "start_time": "2022-01-14T12:25:20.090Z"
      },
      {
        "duration": 2019,
        "start_time": "2022-01-14T12:25:52.629Z"
      },
      {
        "duration": 13,
        "start_time": "2022-01-14T12:25:54.651Z"
      },
      {
        "duration": 57,
        "start_time": "2022-01-14T12:25:54.667Z"
      },
      {
        "duration": 45,
        "start_time": "2022-01-14T12:25:54.727Z"
      },
      {
        "duration": 35,
        "start_time": "2022-01-14T12:25:54.775Z"
      },
      {
        "duration": 30,
        "start_time": "2022-01-14T12:25:54.812Z"
      },
      {
        "duration": 15,
        "start_time": "2022-01-14T12:25:54.845Z"
      },
      {
        "duration": 44,
        "start_time": "2022-01-14T12:25:54.864Z"
      },
      {
        "duration": 23,
        "start_time": "2022-01-14T12:25:54.911Z"
      },
      {
        "duration": 364,
        "start_time": "2022-01-14T12:25:54.936Z"
      },
      {
        "duration": 11,
        "start_time": "2022-01-14T12:25:55.303Z"
      },
      {
        "duration": 11,
        "start_time": "2022-01-14T12:25:55.316Z"
      },
      {
        "duration": 273,
        "start_time": "2022-01-14T12:25:55.330Z"
      },
      {
        "duration": 30,
        "start_time": "2022-01-14T12:25:55.605Z"
      },
      {
        "duration": 10,
        "start_time": "2022-01-14T12:25:55.637Z"
      },
      {
        "duration": 13,
        "start_time": "2022-01-14T12:25:55.650Z"
      },
      {
        "duration": 360,
        "start_time": "2022-01-14T12:25:55.666Z"
      },
      {
        "duration": 357,
        "start_time": "2022-01-14T12:25:56.028Z"
      },
      {
        "duration": 245,
        "start_time": "2022-01-14T12:25:56.388Z"
      },
      {
        "duration": 468,
        "start_time": "2022-01-14T12:25:56.635Z"
      },
      {
        "duration": 49,
        "start_time": "2022-01-14T12:25:57.105Z"
      },
      {
        "duration": 1521,
        "start_time": "2022-01-14T12:25:57.157Z"
      },
      {
        "duration": 189,
        "start_time": "2022-01-14T12:25:58.683Z"
      },
      {
        "duration": 39,
        "start_time": "2022-01-14T12:25:58.875Z"
      },
      {
        "duration": 61,
        "start_time": "2022-01-14T12:25:58.917Z"
      },
      {
        "duration": 382,
        "start_time": "2022-01-14T12:25:58.981Z"
      },
      {
        "duration": 36,
        "start_time": "2022-01-14T12:25:59.366Z"
      },
      {
        "duration": 19,
        "start_time": "2022-01-14T12:25:59.404Z"
      },
      {
        "duration": 243,
        "start_time": "2022-01-14T12:25:59.426Z"
      },
      {
        "duration": 455,
        "start_time": "2022-01-14T12:25:59.671Z"
      },
      {
        "duration": 672,
        "start_time": "2022-01-14T12:26:00.128Z"
      },
      {
        "duration": 23,
        "start_time": "2022-01-14T12:27:57.487Z"
      },
      {
        "duration": 16,
        "start_time": "2022-01-14T12:28:03.363Z"
      },
      {
        "duration": 28,
        "start_time": "2022-01-14T12:28:19.953Z"
      },
      {
        "duration": 48,
        "start_time": "2022-01-14T12:28:20.528Z"
      },
      {
        "duration": 35,
        "start_time": "2022-01-14T12:28:28.533Z"
      },
      {
        "duration": 16,
        "start_time": "2022-01-14T12:29:45.641Z"
      }
    ],
    "kernelspec": {
      "display_name": "Python 3",
      "language": "python",
      "name": "python3"
    },
    "language_info": {
      "codemirror_mode": {
        "name": "ipython",
        "version": 3
      },
      "file_extension": ".py",
      "mimetype": "text/x-python",
      "name": "python",
      "nbconvert_exporter": "python",
      "pygments_lexer": "ipython3",
      "version": "3.7.8"
    },
    "toc": {
      "base_numbering": 1,
      "nav_menu": {},
      "number_sections": true,
      "sideBar": true,
      "skip_h1_title": true,
      "title_cell": "Table of Contents",
      "title_sidebar": "Contents",
      "toc_cell": false,
      "toc_position": {},
      "toc_section_display": true,
      "toc_window_display": false
    },
    "colab": {
      "name": "Исследования рынка общепита в Москве для принятия решения об открытии нового заведения",
      "provenance": [],
      "collapsed_sections": []
    }
  },
  "nbformat": 4,
  "nbformat_minor": 0
}